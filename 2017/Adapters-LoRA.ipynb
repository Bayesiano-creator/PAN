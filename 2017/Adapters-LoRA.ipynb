{
 "cells": [
  {
   "cell_type": "markdown",
   "id": "0cb3f95f",
   "metadata": {},
   "source": [
    "# Paquetes"
   ]
  },
  {
   "cell_type": "code",
   "execution_count": 1,
   "id": "65a94b19",
   "metadata": {},
   "outputs": [],
   "source": [
    "import numpy as np\n",
    "import matplotlib.pyplot as plt\n",
    "import torch\n",
    "import transformers\n",
    "import os"
   ]
  },
  {
   "cell_type": "markdown",
   "id": "a9df7b4e",
   "metadata": {},
   "source": [
    "# Parametros"
   ]
  },
  {
   "cell_type": "code",
   "execution_count": 2,
   "id": "1cf5369c",
   "metadata": {},
   "outputs": [],
   "source": [
    "# MODEL\n",
    "\n",
    "_LANGUAGE_         = 'es'\n",
    "_PRETRAINED_LM_    = 'pysentimiento/robertuito-base-cased'\n",
    "_PREPROCESS_TEXT_  = True\n",
    "_TWEET_BATCH_SIZE_ = 5\n",
    "_ADAPTER_CONFIG_   = transformers.LoRAConfig()\n",
    "_MAX_SEQ_LEN_      = 128\n",
    "_OUTPUT_DIR_       = 'LoRA_adapter_checkPoints_es'\n",
    "_LOGGING_STEPS_    = 50\n",
    "\n",
    "\n",
    "# TRAIN\n",
    "\n",
    "_NO_GPUS_          = 2\n",
    "_BATCH_SIZE_       = 100\n",
    "_EPOCHS_           = {'gender': 8, 'variety': 10}\n",
    "_LEARNING_RATE_    = 1e-4"
   ]
  },
  {
   "cell_type": "markdown",
   "id": "d270e8a7",
   "metadata": {},
   "source": [
    "# Dataset"
   ]
  },
  {
   "cell_type": "code",
   "execution_count": 3,
   "id": "e0fa6aef",
   "metadata": {},
   "outputs": [],
   "source": [
    "# LABEL DICTONARIES -----------------------------------------------------------------------\n",
    "\n",
    "gender_dict    = {'female': 0, \n",
    "                  'male':   1}\n",
    "\n",
    "varietyEN_dict = {'australia'    : 0,\n",
    "                  'canada'       : 1,\n",
    "                  'great britain' : 2,\n",
    "                  'ireland'      : 3,\n",
    "                  'new zealand'   : 4,\n",
    "                  'united states': 5}\n",
    "\n",
    "varietyES_dict = {'argentina': 0,\n",
    "                  'chile'    : 1,\n",
    "                  'colombia' : 2,\n",
    "                  'mexico'   : 3,\n",
    "                  'peru'     : 4,\n",
    "                  'spain'    : 5,\n",
    "                  'venezuela': 6}    "
   ]
  },
  {
   "cell_type": "code",
   "execution_count": 4,
   "id": "6d97da9e",
   "metadata": {},
   "outputs": [],
   "source": [
    "# SET LANGUAGE DIRECTORY\n",
    "\n",
    "if _LANGUAGE_ == 'en':\n",
    "    variety_dict = varietyEN_dict\n",
    "\n",
    "elif _LANGUAGE_ == 'es':\n",
    "    variety_dict = varietyES_dict"
   ]
  },
  {
   "cell_type": "code",
   "execution_count": 5,
   "id": "211f27d2",
   "metadata": {},
   "outputs": [],
   "source": [
    "# SET LANGUAGE TOKENIZER\n",
    "\n",
    "from transformers import AutoTokenizer\n",
    "\n",
    "\n",
    "tokenizer = AutoTokenizer.from_pretrained(_PRETRAINED_LM_)\n",
    "    \n",
    "vocab = tokenizer.get_vocab()"
   ]
  },
  {
   "cell_type": "code",
   "execution_count": 6,
   "id": "eac01f54",
   "metadata": {},
   "outputs": [
    {
     "name": "stdout",
     "output_type": "stream",
     "text": [
      "\n",
      "Reading data...\n",
      "    Done\n",
      "Preprocessing text...\n",
      "    Done\n",
      "Tokenizing...\n",
      "    Done\n",
      "\n",
      "Total Instances: 84000\n",
      "\n",
      "\n",
      "Reading data...\n",
      "    Done\n",
      "Preprocessing text...\n",
      "    Done\n",
      "Tokenizing...\n",
      "    Done\n",
      "\n",
      "Total Instances: 56000\n",
      "\n"
     ]
    }
   ],
   "source": [
    "# CREATE ONE INSTANCE PER DATA SPLIT\n",
    "\n",
    "from DatasetPAN17 import BasePAN17, DatasetPAN17\n",
    "\n",
    "baseTrain = BasePAN17(Dir              = 'data',\n",
    "                      split            = 'train',\n",
    "                      language         = _LANGUAGE_,\n",
    "                      tokenizer        = tokenizer,\n",
    "                      gender_dict      = gender_dict,\n",
    "                      variety_dict     = variety_dict,\n",
    "                      tweet_batch_size = _TWEET_BATCH_SIZE_,\n",
    "                      max_seq_len      = _MAX_SEQ_LEN_,\n",
    "                      preprocess_text  = _PREPROCESS_TEXT_)\n",
    "\n",
    "baseTest  = BasePAN17(Dir              = 'data',\n",
    "                      split            = 'test',\n",
    "                      language         = _LANGUAGE_,\n",
    "                      tokenizer        = tokenizer,\n",
    "                      gender_dict      = gender_dict,\n",
    "                      variety_dict     = variety_dict,\n",
    "                      tweet_batch_size = _TWEET_BATCH_SIZE_,\n",
    "                      max_seq_len      = _MAX_SEQ_LEN_,\n",
    "                      preprocess_text  = _PREPROCESS_TEXT_)"
   ]
  },
  {
   "cell_type": "code",
   "execution_count": 7,
   "id": "ff9270ef",
   "metadata": {},
   "outputs": [],
   "source": [
    "# CREATE DATA LOADER FOR EVERY TASK\n",
    "\n",
    "tasks = ['gender', 'variety']\n",
    "\n",
    "dataset_dict = {}\n",
    "for task in tasks:\n",
    "    dataset_dict[task] = DatasetPAN17(Base_Dataset = baseTrain, label = task)"
   ]
  },
  {
   "cell_type": "markdown",
   "id": "7a6f0cf7",
   "metadata": {},
   "source": [
    "# Model"
   ]
  },
  {
   "cell_type": "code",
   "execution_count": 8,
   "id": "775ae0f2",
   "metadata": {},
   "outputs": [
    {
     "name": "stderr",
     "output_type": "stream",
     "text": [
      "Some weights of the model checkpoint at pysentimiento/robertuito-base-cased were not used when initializing RobertaAdapterModel: ['lm_head.layer_norm.bias', 'lm_head.dense.weight', 'lm_head.bias', 'lm_head.dense.bias', 'lm_head.layer_norm.weight']\n",
      "- This IS expected if you are initializing RobertaAdapterModel from the checkpoint of a model trained on another task or with another architecture (e.g. initializing a BertForSequenceClassification model from a BertForPreTraining model).\n",
      "- This IS NOT expected if you are initializing RobertaAdapterModel from the checkpoint of a model that you expect to be exactly identical (initializing a BertForSequenceClassification model from a BertForSequenceClassification model).\n",
      "Some weights of RobertaAdapterModel were not initialized from the model checkpoint at pysentimiento/robertuito-base-cased and are newly initialized: ['roberta.pooler.dense.weight', 'roberta.pooler.dense.bias']\n",
      "You should probably TRAIN this model on a down-stream task to be able to use it for predictions and inference.\n"
     ]
    }
   ],
   "source": [
    "from transformers import AutoAdapterModel\n",
    "\n",
    "\n",
    "model = AutoAdapterModel.from_pretrained(_PRETRAINED_LM_)\n"
   ]
  },
  {
   "cell_type": "markdown",
   "id": "19615433",
   "metadata": {},
   "source": [
    "# Adapters"
   ]
  },
  {
   "cell_type": "code",
   "execution_count": 9,
   "id": "38fd5ab9",
   "metadata": {},
   "outputs": [],
   "source": [
    "num_v           = len(baseTrain.variety_dict)\n",
    "num_labels_dict = {\"gender\": 2, \"variety\": num_v,}\n",
    "\n",
    "# Add adapters\n",
    "for task_name in tasks:\n",
    "    \n",
    "    model.add_adapter(\n",
    "        adapter_name = task_name, \n",
    "        config       = _ADAPTER_CONFIG_\n",
    "    )\n",
    "    \n",
    "    model.add_classification_head(\n",
    "        head_name    = task_name,\n",
    "        num_labels   = num_labels_dict[task_name],\n",
    "      )\n",
    "\n",
    "device = \"cuda:0\" if torch.cuda.is_available() else \"cpu\"\n",
    "model = model.to(device)"
   ]
  },
  {
   "cell_type": "markdown",
   "id": "43a04a6e",
   "metadata": {},
   "source": [
    "# Training"
   ]
  },
  {
   "cell_type": "code",
   "execution_count": null,
   "id": "c0130f2a",
   "metadata": {},
   "outputs": [
    {
     "name": "stderr",
     "output_type": "stream",
     "text": [
      "/001/usuarios/isaac.bribiesca/anaconda3/envs/NLP/lib/python3.10/site-packages/transformers/optimization.py:306: FutureWarning: This implementation of AdamW is deprecated and will be removed in a future version. Use the PyTorch implementation torch.optim.AdamW instead, or set `no_deprecation_warning=True` to disable this warning\n",
      "  warnings.warn(\n",
      "***** Running training *****\n",
      "  Num examples = 84000\n",
      "  Num Epochs = 8\n",
      "  Instantaneous batch size per device = 100\n",
      "  Total train batch size (w. parallel, distributed & accumulation) = 200\n",
      "  Gradient Accumulation steps = 1\n",
      "  Total optimization steps = 3360\n",
      "/001/usuarios/isaac.bribiesca/anaconda3/envs/NLP/lib/python3.10/site-packages/torch/nn/parallel/_functions.py:68: UserWarning: Was asked to gather along dimension 0, but all input tensors were scalars; will instead unsqueeze and return a vector.\n",
      "  warnings.warn('Was asked to gather along dimension 0, but all '\n"
     ]
    },
    {
     "data": {
      "text/html": [
       "\n",
       "    <div>\n",
       "      \n",
       "      <progress value='1255' max='3360' style='width:300px; height:20px; vertical-align: middle;'></progress>\n",
       "      [1255/3360 10:46 < 18:06, 1.94 it/s, Epoch 2.99/8]\n",
       "    </div>\n",
       "    <table border=\"1\" class=\"dataframe\">\n",
       "  <thead>\n",
       " <tr style=\"text-align: left;\">\n",
       "      <th>Step</th>\n",
       "      <th>Training Loss</th>\n",
       "    </tr>\n",
       "  </thead>\n",
       "  <tbody>\n",
       "    <tr>\n",
       "      <td>50</td>\n",
       "      <td>0.616800</td>\n",
       "    </tr>\n",
       "    <tr>\n",
       "      <td>100</td>\n",
       "      <td>0.586000</td>\n",
       "    </tr>\n",
       "    <tr>\n",
       "      <td>150</td>\n",
       "      <td>0.583000</td>\n",
       "    </tr>\n",
       "    <tr>\n",
       "      <td>200</td>\n",
       "      <td>0.585700</td>\n",
       "    </tr>\n",
       "    <tr>\n",
       "      <td>250</td>\n",
       "      <td>0.579500</td>\n",
       "    </tr>\n",
       "    <tr>\n",
       "      <td>300</td>\n",
       "      <td>0.570800</td>\n",
       "    </tr>\n",
       "    <tr>\n",
       "      <td>350</td>\n",
       "      <td>0.561200</td>\n",
       "    </tr>\n",
       "    <tr>\n",
       "      <td>400</td>\n",
       "      <td>0.559100</td>\n",
       "    </tr>\n",
       "    <tr>\n",
       "      <td>450</td>\n",
       "      <td>0.547400</td>\n",
       "    </tr>\n",
       "    <tr>\n",
       "      <td>500</td>\n",
       "      <td>0.544000</td>\n",
       "    </tr>\n",
       "    <tr>\n",
       "      <td>550</td>\n",
       "      <td>0.549900</td>\n",
       "    </tr>\n",
       "    <tr>\n",
       "      <td>600</td>\n",
       "      <td>0.541000</td>\n",
       "    </tr>\n",
       "    <tr>\n",
       "      <td>650</td>\n",
       "      <td>0.545500</td>\n",
       "    </tr>\n",
       "    <tr>\n",
       "      <td>700</td>\n",
       "      <td>0.534600</td>\n",
       "    </tr>\n",
       "    <tr>\n",
       "      <td>750</td>\n",
       "      <td>0.539400</td>\n",
       "    </tr>\n",
       "    <tr>\n",
       "      <td>800</td>\n",
       "      <td>0.535900</td>\n",
       "    </tr>\n",
       "    <tr>\n",
       "      <td>850</td>\n",
       "      <td>0.538300</td>\n",
       "    </tr>\n",
       "    <tr>\n",
       "      <td>900</td>\n",
       "      <td>0.534100</td>\n",
       "    </tr>\n",
       "    <tr>\n",
       "      <td>950</td>\n",
       "      <td>0.526900</td>\n",
       "    </tr>\n",
       "    <tr>\n",
       "      <td>1000</td>\n",
       "      <td>0.529100</td>\n",
       "    </tr>\n",
       "    <tr>\n",
       "      <td>1050</td>\n",
       "      <td>0.526100</td>\n",
       "    </tr>\n",
       "    <tr>\n",
       "      <td>1100</td>\n",
       "      <td>0.533500</td>\n",
       "    </tr>\n",
       "    <tr>\n",
       "      <td>1150</td>\n",
       "      <td>0.526500</td>\n",
       "    </tr>\n",
       "    <tr>\n",
       "      <td>1200</td>\n",
       "      <td>0.515900</td>\n",
       "    </tr>\n",
       "    <tr>\n",
       "      <td>1250</td>\n",
       "      <td>0.520700</td>\n",
       "    </tr>\n",
       "  </tbody>\n",
       "</table><p>"
      ],
      "text/plain": [
       "<IPython.core.display.HTML object>"
      ]
     },
     "metadata": {},
     "output_type": "display_data"
    },
    {
     "name": "stderr",
     "output_type": "stream",
     "text": [
      "Saving model checkpoint to LoRA_adapter_checkPoints_es/gender/checkpoint-500\n",
      "Configuration saved in LoRA_adapter_checkPoints_es/gender/checkpoint-500/gender/adapter_config.json\n",
      "Module weights saved in LoRA_adapter_checkPoints_es/gender/checkpoint-500/gender/pytorch_adapter.bin\n",
      "Configuration saved in LoRA_adapter_checkPoints_es/gender/checkpoint-500/gender/head_config.json\n",
      "Module weights saved in LoRA_adapter_checkPoints_es/gender/checkpoint-500/gender/pytorch_model_head.bin\n",
      "Configuration saved in LoRA_adapter_checkPoints_es/gender/checkpoint-500/variety/adapter_config.json\n",
      "Module weights saved in LoRA_adapter_checkPoints_es/gender/checkpoint-500/variety/pytorch_adapter.bin\n",
      "Configuration saved in LoRA_adapter_checkPoints_es/gender/checkpoint-500/variety/head_config.json\n",
      "Module weights saved in LoRA_adapter_checkPoints_es/gender/checkpoint-500/variety/pytorch_model_head.bin\n",
      "Configuration saved in LoRA_adapter_checkPoints_es/gender/checkpoint-500/gender/head_config.json\n",
      "Module weights saved in LoRA_adapter_checkPoints_es/gender/checkpoint-500/gender/pytorch_model_head.bin\n",
      "Configuration saved in LoRA_adapter_checkPoints_es/gender/checkpoint-500/variety/head_config.json\n",
      "Module weights saved in LoRA_adapter_checkPoints_es/gender/checkpoint-500/variety/pytorch_model_head.bin\n",
      "/001/usuarios/isaac.bribiesca/anaconda3/envs/NLP/lib/python3.10/site-packages/torch/nn/parallel/_functions.py:68: UserWarning: Was asked to gather along dimension 0, but all input tensors were scalars; will instead unsqueeze and return a vector.\n",
      "  warnings.warn('Was asked to gather along dimension 0, but all '\n",
      "Saving model checkpoint to LoRA_adapter_checkPoints_es/gender/checkpoint-1000\n",
      "Configuration saved in LoRA_adapter_checkPoints_es/gender/checkpoint-1000/gender/adapter_config.json\n",
      "Module weights saved in LoRA_adapter_checkPoints_es/gender/checkpoint-1000/gender/pytorch_adapter.bin\n",
      "Configuration saved in LoRA_adapter_checkPoints_es/gender/checkpoint-1000/gender/head_config.json\n",
      "Module weights saved in LoRA_adapter_checkPoints_es/gender/checkpoint-1000/gender/pytorch_model_head.bin\n",
      "Configuration saved in LoRA_adapter_checkPoints_es/gender/checkpoint-1000/variety/adapter_config.json\n",
      "Module weights saved in LoRA_adapter_checkPoints_es/gender/checkpoint-1000/variety/pytorch_adapter.bin\n",
      "Configuration saved in LoRA_adapter_checkPoints_es/gender/checkpoint-1000/variety/head_config.json\n",
      "Module weights saved in LoRA_adapter_checkPoints_es/gender/checkpoint-1000/variety/pytorch_model_head.bin\n",
      "Configuration saved in LoRA_adapter_checkPoints_es/gender/checkpoint-1000/gender/head_config.json\n",
      "Module weights saved in LoRA_adapter_checkPoints_es/gender/checkpoint-1000/gender/pytorch_model_head.bin\n",
      "Configuration saved in LoRA_adapter_checkPoints_es/gender/checkpoint-1000/variety/head_config.json\n",
      "Module weights saved in LoRA_adapter_checkPoints_es/gender/checkpoint-1000/variety/pytorch_model_head.bin\n",
      "/001/usuarios/isaac.bribiesca/anaconda3/envs/NLP/lib/python3.10/site-packages/torch/nn/parallel/_functions.py:68: UserWarning: Was asked to gather along dimension 0, but all input tensors were scalars; will instead unsqueeze and return a vector.\n",
      "  warnings.warn('Was asked to gather along dimension 0, but all '\n"
     ]
    }
   ],
   "source": [
    "from Training import train_model_with_adapters\n",
    "\n",
    "train_model_with_adapters(model         = model,\n",
    "                          dataset_dict  = dataset_dict,\n",
    "                          epochs        = _EPOCHS_,\n",
    "                          batch_size    = _BATCH_SIZE_,\n",
    "                          no_gpus       = _NO_GPUS_,\n",
    "                          output_dir    = _OUTPUT_DIR_,\n",
    "                          logging_steps = _LOGGING_STEPS_,\n",
    "                          learning_rate = _LEARNING_RATE_)"
   ]
  },
  {
   "cell_type": "markdown",
   "id": "8fded496",
   "metadata": {},
   "source": [
    "# Testing"
   ]
  },
  {
   "cell_type": "code",
   "execution_count": null,
   "id": "22377b1e",
   "metadata": {},
   "outputs": [],
   "source": [
    "from tqdm import tqdm\n",
    "import torch\n",
    "import transformers.adapters.composition as AC  \n",
    "import numpy as np\n",
    "\n",
    "def test_model_with_adapters(model, baseTest):\n",
    "    \n",
    "    tasks  = [\"gender\", \"variety\"]\n",
    "    labels = [\"gender\", \"variety\", \"joint\"]\n",
    "    num_labels_dict = {'gender': 2, 'variety': len(baseTest.variety_dict)}\n",
    "    \n",
    "    successful_preds = { label: 0 for label in labels }\n",
    "    \n",
    "    device = \"cuda:0\" if torch.cuda.is_available() == True else \"cpu\"\n",
    "    \n",
    "    with torch.no_grad():\n",
    "        \n",
    "        for author in tqdm(baseTest.authors):\n",
    "            # finds all instances of author\n",
    "            author_idx = [idx for idx in range(len(baseTest.data)) if baseTest.data[idx]['author'] == author]\n",
    "\n",
    "            # get truth labels with fst instance and initialize scores\n",
    "            fst      = baseTest.data[author_idx[0]]\n",
    "            truth    = { task: fst[task]                         for task in tasks }\n",
    "            scores   = { task: np.zeros( num_labels_dict[task] ) for task in tasks }\n",
    "\n",
    "            for idx in author_idx:\n",
    "                # creates case in device\n",
    "                case = {key: torch.tensor(val[idx]).to(device) for key, val in baseTest.encodings.items()}\n",
    "\n",
    "                # computes all task predictions in parallel\n",
    "                preds = []\n",
    "                \n",
    "                model.set_active_adapters('gender')\n",
    "                preds.append( model(**case) )\n",
    "            \n",
    "                model.set_active_adapters('variety')\n",
    "                preds.append( model(**case) )\n",
    "\n",
    "                # get prediction and accumulate\n",
    "                for task, pred in zip(tasks, preds):\n",
    "                    y = torch.nn.functional.softmax(pred['logits'], dim = 1).cpu().numpy()[0]\n",
    "                    scores[task] += y\n",
    "            \n",
    "            good_labels = 0\n",
    "            for task in tasks:\n",
    "                if np.argmax( scores[task] ) == truth[task]:\n",
    "                    good_labels            += 1\n",
    "                    successful_preds[task] += 1\n",
    "            \n",
    "            if good_labels == 2:\n",
    "                successful_preds['joint'] += 1\n",
    "\n",
    "    accuracy = { label: val/len(baseTest.authors) for label, val in successful_preds.items() }\n",
    "    \n",
    "    return accuracy"
   ]
  },
  {
   "cell_type": "code",
   "execution_count": null,
   "id": "a85ae4c5",
   "metadata": {},
   "outputs": [],
   "source": [
    "#from TestingPAN17 import test_model_with_adapters\n",
    "\n",
    "accuracy = test_model_with_adapters(model, baseTest)"
   ]
  },
  {
   "cell_type": "code",
   "execution_count": null,
   "id": "c423458d",
   "metadata": {},
   "outputs": [],
   "source": [
    "accuracy"
   ]
  },
  {
   "cell_type": "code",
   "execution_count": null,
   "id": "cfb5b08d",
   "metadata": {},
   "outputs": [],
   "source": [
    "def trainable_parameters_relation(model):\n",
    "  total_params = 0\n",
    "  train_params = 0\n",
    "  for name, param in model.named_parameters():\n",
    "    curr = np.array(param.shape).prod()\n",
    "    total_params += curr\n",
    "    if param.requires_grad:\n",
    "      #print(name)\n",
    "      train_params += curr\n",
    "  \n",
    "  return 100*train_params/total_params"
   ]
  },
  {
   "cell_type": "code",
   "execution_count": null,
   "id": "9f72edec",
   "metadata": {},
   "outputs": [],
   "source": [
    "print(\"\\nParametros entrenables:\", trainable_parameters_relation(model), \"%\")"
   ]
  },
  {
   "cell_type": "code",
   "execution_count": null,
   "id": "77d0c8a5",
   "metadata": {},
   "outputs": [],
   "source": []
  }
 ],
 "metadata": {
  "kernelspec": {
   "display_name": "Python 3 (ipykernel)",
   "language": "python",
   "name": "python3"
  },
  "language_info": {
   "codemirror_mode": {
    "name": "ipython",
    "version": 3
   },
   "file_extension": ".py",
   "mimetype": "text/x-python",
   "name": "python",
   "nbconvert_exporter": "python",
   "pygments_lexer": "ipython3",
   "version": "3.10.4"
  }
 },
 "nbformat": 4,
 "nbformat_minor": 5
}
