{
 "cells": [
  {
   "cell_type": "markdown",
   "id": "187755f9",
   "metadata": {},
   "source": [
    "## Paquetes"
   ]
  },
  {
   "cell_type": "code",
   "execution_count": 1,
   "id": "55893c41",
   "metadata": {},
   "outputs": [],
   "source": [
    "import numpy as np\n",
    "import matplotlib.pyplot as plt\n",
    "import torch\n",
    "import transformers\n",
    "import os"
   ]
  },
  {
   "cell_type": "markdown",
   "id": "11e9adf0",
   "metadata": {},
   "source": [
    "## Parametros"
   ]
  },
  {
   "cell_type": "code",
   "execution_count": 2,
   "id": "1dcb8cdc",
   "metadata": {},
   "outputs": [],
   "source": [
    "_LANGUAGE_         = 'es'\n",
    "_PRETRAINED_LM_    = 'pysentimiento/robertuito-base-cased'\n",
    "_PREPROCESS_TEXT_  = True\n",
    "_TWEET_BATCH_SIZE_ = 5\n",
    "_MAX_SEQ_LEN_      = 128"
   ]
  },
  {
   "cell_type": "markdown",
   "id": "04800150",
   "metadata": {},
   "source": [
    "## Dataset"
   ]
  },
  {
   "cell_type": "code",
   "execution_count": 3,
   "id": "a4c41809",
   "metadata": {},
   "outputs": [],
   "source": [
    "# LABEL DICTONARIES -----------------------------------------------------------------------\n",
    "\n",
    "gender_dict    = {'female': 0, \n",
    "                  'male':   1}\n",
    "\n",
    "varietyEN_dict = {'australia'    : 0,\n",
    "                  'canada'       : 1,\n",
    "                  'great britain' : 2,\n",
    "                  'ireland'      : 3,\n",
    "                  'new zealand'   : 4,\n",
    "                  'united states': 5}\n",
    "\n",
    "varietyES_dict = {'argentina': 0,\n",
    "                  'chile'    : 1,\n",
    "                  'colombia' : 2,\n",
    "                  'mexico'   : 3,\n",
    "                  'peru'     : 4,\n",
    "                  'spain'    : 5,\n",
    "                  'venezuela': 6}    "
   ]
  },
  {
   "cell_type": "code",
   "execution_count": 4,
   "id": "3202bb36",
   "metadata": {},
   "outputs": [],
   "source": [
    "# SET LANGUAGE DIRECTORY\n",
    "\n",
    "if _LANGUAGE_ == 'en':\n",
    "    variety_dict = varietyEN_dict\n",
    "\n",
    "elif _LANGUAGE_ == 'es':\n",
    "    variety_dict = varietyES_dict"
   ]
  },
  {
   "cell_type": "code",
   "execution_count": 5,
   "id": "952dd40b",
   "metadata": {},
   "outputs": [],
   "source": [
    "# SET LANGUAGE TOKENIZER\n",
    "\n",
    "from transformers import AutoTokenizer\n",
    "\n",
    "\n",
    "tokenizer = AutoTokenizer.from_pretrained(_PRETRAINED_LM_)\n",
    "    \n",
    "vocab = tokenizer.get_vocab()"
   ]
  },
  {
   "cell_type": "code",
   "execution_count": 6,
   "id": "a6708d47",
   "metadata": {},
   "outputs": [
    {
     "name": "stdout",
     "output_type": "stream",
     "text": [
      "\n",
      "Reading data...\n",
      "    Done\n",
      "Preprocessing text...\n",
      "    Done\n",
      "Tokenizing...\n",
      "    Done\n",
      "\n",
      "Total Instances: 56000\n",
      "\n"
     ]
    }
   ],
   "source": [
    "# CREATE ONE INSTANCE PER DATA SPLIT\n",
    "\n",
    "from DatasetPAN17 import BasePAN17, DatasetPAN17\n",
    "\n",
    "\n",
    "baseTest  = BasePAN17(Dir              = 'data',\n",
    "                      split            = 'test',\n",
    "                      language         = _LANGUAGE_,\n",
    "                      tokenizer        = tokenizer,\n",
    "                      gender_dict      = gender_dict,\n",
    "                      variety_dict     = variety_dict,\n",
    "                      tweet_batch_size = _TWEET_BATCH_SIZE_,\n",
    "                      max_seq_len      = _MAX_SEQ_LEN_,\n",
    "                      preprocess_text  = _PREPROCESS_TEXT_)"
   ]
  },
  {
   "cell_type": "markdown",
   "id": "0c07fcda",
   "metadata": {},
   "source": [
    "## Modelo con Adapters pre-entrenados"
   ]
  },
  {
   "cell_type": "code",
   "execution_count": 11,
   "id": "b465ff7a",
   "metadata": {},
   "outputs": [],
   "source": [
    "# CREATE DATA LOADER FOR EVERY TASK\n",
    "\n",
    "tasks = ['variety']"
   ]
  },
  {
   "cell_type": "code",
   "execution_count": 8,
   "id": "553b5a5d",
   "metadata": {},
   "outputs": [
    {
     "name": "stderr",
     "output_type": "stream",
     "text": [
      "Some weights of the model checkpoint at pysentimiento/robertuito-base-cased were not used when initializing RobertaAdapterModel: ['lm_head.dense.weight', 'lm_head.layer_norm.weight', 'lm_head.dense.bias', 'lm_head.bias', 'lm_head.layer_norm.bias']\n",
      "- This IS expected if you are initializing RobertaAdapterModel from the checkpoint of a model trained on another task or with another architecture (e.g. initializing a BertForSequenceClassification model from a BertForPreTraining model).\n",
      "- This IS NOT expected if you are initializing RobertaAdapterModel from the checkpoint of a model that you expect to be exactly identical (initializing a BertForSequenceClassification model from a BertForSequenceClassification model).\n",
      "Some weights of RobertaAdapterModel were not initialized from the model checkpoint at pysentimiento/robertuito-base-cased and are newly initialized: ['roberta.pooler.dense.weight', 'roberta.pooler.dense.bias']\n",
      "You should probably TRAIN this model on a down-stream task to be able to use it for predictions and inference.\n"
     ]
    }
   ],
   "source": [
    "from transformers import AutoAdapterModel\n",
    "\n",
    "model = AutoAdapterModel.from_pretrained(_PRETRAINED_LM_)"
   ]
  },
  {
   "cell_type": "code",
   "execution_count": 9,
   "id": "a575a7b2",
   "metadata": {},
   "outputs": [
    {
     "name": "stdout",
     "output_type": "stream",
     "text": [
      "Pfeiffer\n",
      "Houlsby\n",
      "Parallel\n",
      "PrefixTuning\n",
      "LoRA\n",
      "MAM\n",
      "UniPELT\n"
     ]
    }
   ],
   "source": [
    "_ADAPTERS_ = ['Pfeiffer', 'Houlsby', 'Parallel', 'PrefixTuning', 'LoRA', 'MAM', 'UniPELT']\n",
    "\n",
    "for adapter in _ADAPTERS_:\n",
    "    name = model.load_adapter(adapter_name_or_path = './' + adapter + '_weights_' + tasks[0], load_as = adapter)\n",
    "    print(name)"
   ]
  },
  {
   "cell_type": "code",
   "execution_count": 10,
   "id": "19b0e14e",
   "metadata": {},
   "outputs": [],
   "source": [
    "device = \"cuda:0\" if torch.cuda.is_available() == True else \"cpu\"\n",
    "\n",
    "model = model.to(device)"
   ]
  },
  {
   "cell_type": "markdown",
   "id": "7a83957e",
   "metadata": {},
   "source": [
    "## Testing"
   ]
  },
  {
   "cell_type": "code",
   "execution_count": 12,
   "id": "1f4d6733",
   "metadata": {},
   "outputs": [],
   "source": [
    "from tqdm import tqdm\n",
    "import torch\n",
    "import transformers.adapters.composition as AC  \n",
    "import numpy as np\n",
    "\n",
    "count = 0\n",
    "\n",
    "def test_model_with_adapters(model, baseTest, adapters):\n",
    "    \n",
    "    label  = \"variety\"\n",
    "    device = \"cuda:0\" if torch.cuda.is_available() == True else \"cpu\"\n",
    "    \n",
    "    num_labels_dict  = {'gender': 2, 'variety': len(baseTest.variety_dict)}\n",
    "    successful_preds = 0\n",
    "    \n",
    "    with torch.no_grad():\n",
    "        \n",
    "        count = 0\n",
    "        pbar  = tqdm(baseTest.authors)\n",
    "        \n",
    "        for author in pbar:\n",
    "            # finds all instances of author\n",
    "            author_idx = [idx for idx in range(len(baseTest.data)) if baseTest.data[idx]['author'] == author]\n",
    "\n",
    "            # get truth labels with fst instance and initialize scores\n",
    "            fst      = baseTest.data[author_idx[0]]\n",
    "            truth    = fst[label]\n",
    "            scores   = np.zeros( (len(adapters), num_labels_dict[label]) )\n",
    "\n",
    "            for idx in author_idx:\n",
    "                # creates case in device\n",
    "                case = {key: torch.tensor(val[idx]).to(device) for key, val in baseTest.encodings.items()}\n",
    "\n",
    "                # computes all task predictions in parallel\n",
    "                preds = []\n",
    "                \n",
    "                for adapter in adapters:\n",
    "                    model.set_active_adapters(adapter)\n",
    "                    preds.append( model(**case) )\n",
    "                \n",
    "                # get prediction and accumulate\n",
    "                for i in range(len(adapters)):\n",
    "                    y = torch.nn.functional.softmax(preds[i]['logits'], dim = 1).cpu().numpy()[0]\n",
    "                    scores[i] += y\n",
    "            \n",
    "            votes = [0]*num_labels_dict[label]\n",
    "            for i in range(len(adapters)):\n",
    "                adapter_label = np.argmax( scores[i] )\n",
    "                votes[adapter_label] += 1\n",
    "            \n",
    "            # Discreto\n",
    "            #final_prediction = votes.index( max(votes) )\n",
    "            \n",
    "            # Continuo\n",
    "            final_prediction = np.argmax( scores.sum(axis = 0) )\n",
    "            \n",
    "            if final_prediction == truth:\n",
    "                successful_preds += 1\n",
    "            \n",
    "            count += 1\n",
    "            pbar.set_description(\"acc: \" + str(successful_preds/count))\n",
    "            \n",
    "            \n",
    "    accuracy = successful_preds / len(baseTest.authors)\n",
    "    \n",
    "    return accuracy#, case"
   ]
  },
  {
   "cell_type": "code",
   "execution_count": 13,
   "id": "84aafeb0",
   "metadata": {},
   "outputs": [
    {
     "name": "stderr",
     "output_type": "stream",
     "text": [
      "acc: 0.9525: 100%|████████████████████████████████████████████████████████████████| 2800/2800 [1:34:56<00:00,  2.03s/it]\n"
     ]
    }
   ],
   "source": [
    "accuracy = test_model_with_adapters(model, baseTest, _ADAPTERS_)"
   ]
  },
  {
   "cell_type": "code",
   "execution_count": 14,
   "id": "c8b1718b",
   "metadata": {},
   "outputs": [
    {
     "data": {
      "text/plain": [
       "0.9525"
      ]
     },
     "execution_count": 14,
     "metadata": {},
     "output_type": "execute_result"
    }
   ],
   "source": [
    "accuracy"
   ]
  },
  {
   "cell_type": "code",
   "execution_count": null,
   "id": "6e13f286",
   "metadata": {},
   "outputs": [],
   "source": []
  }
 ],
 "metadata": {
  "kernelspec": {
   "display_name": "Python 3 (ipykernel)",
   "language": "python",
   "name": "python3"
  },
  "language_info": {
   "codemirror_mode": {
    "name": "ipython",
    "version": 3
   },
   "file_extension": ".py",
   "mimetype": "text/x-python",
   "name": "python",
   "nbconvert_exporter": "python",
   "pygments_lexer": "ipython3",
   "version": "3.10.4"
  }
 },
 "nbformat": 4,
 "nbformat_minor": 5
}
