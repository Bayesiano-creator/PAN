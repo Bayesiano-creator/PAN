{
 "cells": [
  {
   "cell_type": "markdown",
   "id": "a8bd83d7",
   "metadata": {},
   "source": [
    "# Paquetes"
   ]
  },
  {
   "cell_type": "code",
   "execution_count": 1,
   "id": "ce606426",
   "metadata": {},
   "outputs": [],
   "source": [
    "import numpy as np\n",
    "import matplotlib.pyplot as plt\n",
    "import torch\n",
    "import transformers\n",
    "import os"
   ]
  },
  {
   "cell_type": "markdown",
   "id": "8b110566",
   "metadata": {},
   "source": [
    "# Parametros"
   ]
  },
  {
   "cell_type": "code",
   "execution_count": 2,
   "id": "1dc08e18",
   "metadata": {},
   "outputs": [],
   "source": [
    "# MODEL\n",
    "\n",
    "_LANGUAGE_         = 'en'\n",
    "_PRETRAINED_LM_    = 'vinai/bertweet-base'\n",
    "_TWEET_BATCH_SIZE_ = 5\n",
    "_ADAPTER_CONFIG_   = None\n",
    "_MAX_SEQ_LEN_      = 128\n",
    "_OUTPUT_DIR_       = 'feature_extractor_checkPoints_en'\n",
    "_LOGGING_STEPS_    = 50\n",
    "\n",
    "\n",
    "# TRAIN\n",
    "\n",
    "_NO_GPUS_          = 1\n",
    "_BATCH_SIZE_       = 100\n",
    "_EPOCHS_           = 10\n",
    "_LEARNING_RATE_    = 1e-4"
   ]
  },
  {
   "cell_type": "markdown",
   "id": "8366b7de",
   "metadata": {},
   "source": [
    "# Dataset"
   ]
  },
  {
   "cell_type": "code",
   "execution_count": 3,
   "id": "fab3944d",
   "metadata": {},
   "outputs": [],
   "source": [
    "# LABEL DICTONARIES -----------------------------------------------------------------------\n",
    "\n",
    "gender_dict    = {'female': 0, \n",
    "                  'male':   1}\n",
    "\n",
    "varietyEN_dict = {'australia'    : 0,\n",
    "                  'canada'       : 1,\n",
    "                  'great britain' : 2,\n",
    "                  'ireland'      : 3,\n",
    "                  'new zealand'   : 4,\n",
    "                  'united states': 5}\n",
    "\n",
    "varietyES_dict = {'argentina': 0,\n",
    "                  'chile'    : 1,\n",
    "                  'colombia' : 2,\n",
    "                  'mexico'   : 3,\n",
    "                  'peru'     : 4,\n",
    "                  'spain'    : 5,\n",
    "                  'venezuela': 6}    "
   ]
  },
  {
   "cell_type": "code",
   "execution_count": 4,
   "id": "5807087f",
   "metadata": {},
   "outputs": [],
   "source": [
    "# SET LANGUAGE DIRECTORY\n",
    "\n",
    "if _LANGUAGE_ == 'en':\n",
    "    variety_dict = varietyEN_dict\n",
    "\n",
    "elif _LANGUAGE_ == 'es':\n",
    "    variety_dict = varietyES_dict"
   ]
  },
  {
   "cell_type": "code",
   "execution_count": 5,
   "id": "9d5825eb",
   "metadata": {},
   "outputs": [
    {
     "name": "stderr",
     "output_type": "stream",
     "text": [
      "Special tokens have been added in the vocabulary, make sure the associated word embeddings are fine-tuned or trained.\n"
     ]
    }
   ],
   "source": [
    "# SET LANGUAGE TOKENIZER\n",
    "\n",
    "from transformers import AutoTokenizer\n",
    "\n",
    "\n",
    "tokenizer = AutoTokenizer.from_pretrained(_PRETRAINED_LM_)\n",
    "    \n",
    "vocab = tokenizer.get_vocab()"
   ]
  },
  {
   "cell_type": "code",
   "execution_count": 6,
   "id": "5b614d44",
   "metadata": {},
   "outputs": [
    {
     "name": "stdout",
     "output_type": "stream",
     "text": [
      "\n",
      "Reading data...\n",
      "    Done\n",
      "Tokenizing...\n",
      "    Done\n",
      "\n",
      "Total Instances: 72000\n",
      "\n",
      "\n",
      "Reading data...\n",
      "    Done\n",
      "Tokenizing...\n",
      "    Done\n",
      "\n",
      "Total Instances: 48000\n",
      "\n"
     ]
    }
   ],
   "source": [
    "# CREATE ONE INSTANCE PER DATA SPLIT\n",
    "\n",
    "from DatasetPAN17 import BasePAN17, DatasetPAN17\n",
    "\n",
    "baseTrain = BasePAN17(Dir              = 'data',\n",
    "                      split            = 'train',\n",
    "                      language         = _LANGUAGE_,\n",
    "                      tokenizer        = tokenizer,\n",
    "                      gender_dict      = gender_dict,\n",
    "                      variety_dict     = variety_dict,\n",
    "                      tweet_batch_size = _TWEET_BATCH_SIZE_,\n",
    "                      max_seq_len      = _MAX_SEQ_LEN_)\n",
    "\n",
    "baseTest  = BasePAN17(Dir              = 'data',\n",
    "                      split            = 'test',\n",
    "                      language         = _LANGUAGE_,\n",
    "                      tokenizer        = tokenizer,\n",
    "                      gender_dict      = gender_dict,\n",
    "                      variety_dict     = variety_dict,\n",
    "                      tweet_batch_size = _TWEET_BATCH_SIZE_,\n",
    "                      max_seq_len      = _MAX_SEQ_LEN_)"
   ]
  },
  {
   "cell_type": "code",
   "execution_count": 7,
   "id": "13867b88",
   "metadata": {},
   "outputs": [],
   "source": [
    "# CREATE DATA LOADER FOR EVERY TASK\n",
    "\n",
    "tasks = ['gender', 'variety']\n",
    "\n",
    "dataset_dict = {}\n",
    "for task in tasks:\n",
    "    dataset_dict[task] = DatasetPAN17(Base_Dataset = baseTrain, label = task)"
   ]
  },
  {
   "cell_type": "markdown",
   "id": "0056c50a",
   "metadata": {},
   "source": [
    "# Model"
   ]
  },
  {
   "cell_type": "code",
   "execution_count": 8,
   "id": "9f560bdc",
   "metadata": {},
   "outputs": [
    {
     "name": "stderr",
     "output_type": "stream",
     "text": [
      "Some weights of the model checkpoint at vinai/bertweet-base were not used when initializing RobertaAdapterModel: ['lm_head.layer_norm.bias', 'lm_head.dense.bias', 'lm_head.bias', 'lm_head.layer_norm.weight', 'lm_head.decoder.weight', 'lm_head.decoder.bias', 'lm_head.dense.weight']\n",
      "- This IS expected if you are initializing RobertaAdapterModel from the checkpoint of a model trained on another task or with another architecture (e.g. initializing a BertForSequenceClassification model from a BertForPreTraining model).\n",
      "- This IS NOT expected if you are initializing RobertaAdapterModel from the checkpoint of a model that you expect to be exactly identical (initializing a BertForSequenceClassification model from a BertForSequenceClassification model).\n"
     ]
    }
   ],
   "source": [
    "from transformers import AutoAdapterModel\n",
    "\n",
    "\n",
    "model = AutoAdapterModel.from_pretrained(_PRETRAINED_LM_)"
   ]
  },
  {
   "cell_type": "markdown",
   "id": "7304b382",
   "metadata": {},
   "source": [
    "# Heads"
   ]
  },
  {
   "cell_type": "code",
   "execution_count": 9,
   "id": "cc8e8eb4",
   "metadata": {},
   "outputs": [],
   "source": [
    "num_v           = len(baseTrain.variety_dict)\n",
    "num_labels_dict = {\"gender\": 2, \"variety\": num_v,}\n",
    "\n",
    "# Add classification heads\n",
    "for task_name in tasks:\n",
    "    \n",
    "    model.add_classification_head(\n",
    "        head_name    = task_name,\n",
    "        num_labels   = num_labels_dict[task_name],\n",
    "      )\n",
    "\n",
    "device = \"cuda:0\" if torch.cuda.is_available() else \"cpu\"\n",
    "model = model.to(device)"
   ]
  },
  {
   "cell_type": "markdown",
   "id": "6201e33a",
   "metadata": {},
   "source": [
    "# Training"
   ]
  },
  {
   "cell_type": "code",
   "execution_count": null,
   "id": "274cbe01",
   "metadata": {},
   "outputs": [
    {
     "name": "stderr",
     "output_type": "stream",
     "text": [
      "/001/usuarios/isaac.bribiesca/anaconda3/envs/NLP/lib/python3.10/site-packages/transformers/optimization.py:306: FutureWarning: This implementation of AdamW is deprecated and will be removed in a future version. Use the PyTorch implementation torch.optim.AdamW instead, or set `no_deprecation_warning=True` to disable this warning\n",
      "  warnings.warn(\n",
      "***** Running training *****\n",
      "  Num examples = 72000\n",
      "  Num Epochs = 10\n",
      "  Instantaneous batch size per device = 100\n",
      "  Total train batch size (w. parallel, distributed & accumulation) = 100\n",
      "  Gradient Accumulation steps = 1\n",
      "  Total optimization steps = 7200\n"
     ]
    },
    {
     "data": {
      "text/html": [
       "\n",
       "    <div>\n",
       "      \n",
       "      <progress value='1616' max='7200' style='width:300px; height:20px; vertical-align: middle;'></progress>\n",
       "      [1616/7200 06:10 < 21:20, 4.36 it/s, Epoch 2.24/10]\n",
       "    </div>\n",
       "    <table border=\"1\" class=\"dataframe\">\n",
       "  <thead>\n",
       " <tr style=\"text-align: left;\">\n",
       "      <th>Step</th>\n",
       "      <th>Training Loss</th>\n",
       "    </tr>\n",
       "  </thead>\n",
       "  <tbody>\n",
       "    <tr>\n",
       "      <td>50</td>\n",
       "      <td>0.682300</td>\n",
       "    </tr>\n",
       "    <tr>\n",
       "      <td>100</td>\n",
       "      <td>0.656400</td>\n",
       "    </tr>\n",
       "    <tr>\n",
       "      <td>150</td>\n",
       "      <td>0.647000</td>\n",
       "    </tr>\n",
       "    <tr>\n",
       "      <td>200</td>\n",
       "      <td>0.630000</td>\n",
       "    </tr>\n",
       "    <tr>\n",
       "      <td>250</td>\n",
       "      <td>0.619300</td>\n",
       "    </tr>\n",
       "    <tr>\n",
       "      <td>300</td>\n",
       "      <td>0.625200</td>\n",
       "    </tr>\n",
       "    <tr>\n",
       "      <td>350</td>\n",
       "      <td>0.614200</td>\n",
       "    </tr>\n",
       "    <tr>\n",
       "      <td>400</td>\n",
       "      <td>0.600900</td>\n",
       "    </tr>\n",
       "    <tr>\n",
       "      <td>450</td>\n",
       "      <td>0.607000</td>\n",
       "    </tr>\n",
       "    <tr>\n",
       "      <td>500</td>\n",
       "      <td>0.601700</td>\n",
       "    </tr>\n",
       "    <tr>\n",
       "      <td>550</td>\n",
       "      <td>0.597700</td>\n",
       "    </tr>\n",
       "    <tr>\n",
       "      <td>600</td>\n",
       "      <td>0.606500</td>\n",
       "    </tr>\n",
       "    <tr>\n",
       "      <td>650</td>\n",
       "      <td>0.603600</td>\n",
       "    </tr>\n",
       "    <tr>\n",
       "      <td>700</td>\n",
       "      <td>0.604700</td>\n",
       "    </tr>\n",
       "    <tr>\n",
       "      <td>750</td>\n",
       "      <td>0.591600</td>\n",
       "    </tr>\n",
       "    <tr>\n",
       "      <td>800</td>\n",
       "      <td>0.598600</td>\n",
       "    </tr>\n",
       "    <tr>\n",
       "      <td>850</td>\n",
       "      <td>0.588100</td>\n",
       "    </tr>\n",
       "    <tr>\n",
       "      <td>900</td>\n",
       "      <td>0.589600</td>\n",
       "    </tr>\n",
       "    <tr>\n",
       "      <td>950</td>\n",
       "      <td>0.590900</td>\n",
       "    </tr>\n",
       "    <tr>\n",
       "      <td>1000</td>\n",
       "      <td>0.592600</td>\n",
       "    </tr>\n",
       "    <tr>\n",
       "      <td>1050</td>\n",
       "      <td>0.597700</td>\n",
       "    </tr>\n",
       "    <tr>\n",
       "      <td>1100</td>\n",
       "      <td>0.597000</td>\n",
       "    </tr>\n",
       "    <tr>\n",
       "      <td>1150</td>\n",
       "      <td>0.600100</td>\n",
       "    </tr>\n",
       "    <tr>\n",
       "      <td>1200</td>\n",
       "      <td>0.597400</td>\n",
       "    </tr>\n",
       "    <tr>\n",
       "      <td>1250</td>\n",
       "      <td>0.599300</td>\n",
       "    </tr>\n",
       "    <tr>\n",
       "      <td>1300</td>\n",
       "      <td>0.591700</td>\n",
       "    </tr>\n",
       "    <tr>\n",
       "      <td>1350</td>\n",
       "      <td>0.597900</td>\n",
       "    </tr>\n",
       "    <tr>\n",
       "      <td>1400</td>\n",
       "      <td>0.589100</td>\n",
       "    </tr>\n",
       "    <tr>\n",
       "      <td>1450</td>\n",
       "      <td>0.590400</td>\n",
       "    </tr>\n",
       "    <tr>\n",
       "      <td>1500</td>\n",
       "      <td>0.602100</td>\n",
       "    </tr>\n",
       "    <tr>\n",
       "      <td>1550</td>\n",
       "      <td>0.595000</td>\n",
       "    </tr>\n",
       "    <tr>\n",
       "      <td>1600</td>\n",
       "      <td>0.585400</td>\n",
       "    </tr>\n",
       "  </tbody>\n",
       "</table><p>"
      ],
      "text/plain": [
       "<IPython.core.display.HTML object>"
      ]
     },
     "metadata": {},
     "output_type": "display_data"
    },
    {
     "name": "stderr",
     "output_type": "stream",
     "text": [
      "Saving model checkpoint to feature_extractor_checkPoints_en/gender/checkpoint-500\n",
      "Configuration saved in feature_extractor_checkPoints_en/gender/checkpoint-500/config.json\n",
      "Model weights saved in feature_extractor_checkPoints_en/gender/checkpoint-500/pytorch_model.bin\n",
      "Saving model checkpoint to feature_extractor_checkPoints_en/gender/checkpoint-1000\n",
      "Configuration saved in feature_extractor_checkPoints_en/gender/checkpoint-1000/config.json\n",
      "Model weights saved in feature_extractor_checkPoints_en/gender/checkpoint-1000/pytorch_model.bin\n",
      "Saving model checkpoint to feature_extractor_checkPoints_en/gender/checkpoint-1500\n",
      "Configuration saved in feature_extractor_checkPoints_en/gender/checkpoint-1500/config.json\n",
      "Model weights saved in feature_extractor_checkPoints_en/gender/checkpoint-1500/pytorch_model.bin\n"
     ]
    }
   ],
   "source": [
    "from Training import train_model_with_heads\n",
    "\n",
    "train_model_with_heads(model         = model,\n",
    "                       dataset_dict  = dataset_dict,\n",
    "                       epochs        = _EPOCHS_,\n",
    "                       batch_size    = _BATCH_SIZE_,\n",
    "                       no_gpus       = _NO_GPUS_,\n",
    "                       output_dir    = _OUTPUT_DIR_, \n",
    "                       logging_steps = _LOGGING_STEPS_,\n",
    "                       learning_rate = _LEARNING_RATE_)"
   ]
  },
  {
   "cell_type": "markdown",
   "id": "34517b6e",
   "metadata": {},
   "source": [
    "# Testing"
   ]
  },
  {
   "cell_type": "code",
   "execution_count": null,
   "id": "cb040273",
   "metadata": {},
   "outputs": [],
   "source": [
    "from TestingPAN17 import test_model_with_heads\n",
    "\n",
    "accuracy = test_model_with_heads(model, baseTest)"
   ]
  },
  {
   "cell_type": "code",
   "execution_count": null,
   "id": "351fb4ba",
   "metadata": {},
   "outputs": [],
   "source": [
    "accuracy"
   ]
  },
  {
   "cell_type": "code",
   "execution_count": null,
   "id": "ef3c6b3d",
   "metadata": {},
   "outputs": [],
   "source": []
  }
 ],
 "metadata": {
  "kernelspec": {
   "display_name": "Python 3 (ipykernel)",
   "language": "python",
   "name": "python3"
  },
  "language_info": {
   "codemirror_mode": {
    "name": "ipython",
    "version": 3
   },
   "file_extension": ".py",
   "mimetype": "text/x-python",
   "name": "python",
   "nbconvert_exporter": "python",
   "pygments_lexer": "ipython3",
   "version": "3.10.4"
  }
 },
 "nbformat": 4,
 "nbformat_minor": 5
}
